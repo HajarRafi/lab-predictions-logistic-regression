{
 "cells": [
  {
   "cell_type": "code",
   "execution_count": 1,
   "id": "7a5419b7",
   "metadata": {},
   "outputs": [],
   "source": [
    "#import the libraries\n",
    "import pandas as pd\n",
    "from sqlalchemy import create_engine\n",
    "import getpass\n",
    "from sklearn.preprocessing import OneHotEncoder\n",
    "import numpy as np\n",
    "import matplotlib\n",
    "import matplotlib.pyplot as plt\n",
    "import seaborn as sns\n",
    "from sklearn.model_selection import train_test_split\n",
    "from sklearn.linear_model import LogisticRegression\n",
    "from sklearn.metrics import accuracy_score\n",
    "import matplotlib.pyplot as plt\n",
    "from sklearn.metrics import confusion_matrix\n",
    "from sklearn.metrics import plot_confusion_matrix\n",
    "from sklearn.metrics import cohen_kappa_score\n",
    "import warnings\n",
    "warnings.filterwarnings('ignore')"
   ]
  },
  {
   "cell_type": "code",
   "execution_count": 2,
   "id": "79a3241a",
   "metadata": {},
   "outputs": [
    {
     "name": "stdout",
     "output_type": "stream",
     "text": [
      "········\n"
     ]
    }
   ],
   "source": [
    "#create connection with MySQL\n",
    "password = getpass.getpass()\n",
    "connection_string = 'mysql+pymysql://root:' + password + '@localhost/sakila'\n",
    "engine = create_engine(connection_string)"
   ]
  },
  {
   "cell_type": "markdown",
   "id": "c00f1cc6",
   "metadata": {},
   "source": [
    "### From MySql"
   ]
  },
  {
   "cell_type": "markdown",
   "id": "60798943",
   "metadata": {},
   "source": [
    "1. Create a query or queries to extract the information you think may be relevant for building the prediction model. It should include some film features and some rental features. Use the data from 2005."
   ]
  },
  {
   "cell_type": "raw",
   "id": "f0c89359",
   "metadata": {},
   "source": [
    "DROP TABLE IF EXISTS film_rental;\n",
    "CREATE TABLE film_rental AS\n",
    "WITH cte_rental AS (SELECT f.film_id, COUNT(r.rental_id) AS n_rentals \n",
    "\t\t\t\t\tFROM sakila.film f\n",
    "                    JOIN sakila.inventory i USING (film_id)\n",
    "                    JOIN sakila.rental r USING (inventory_id)\n",
    "                    WHERE YEAR(CONVERT(r.rental_date, DATE)) = 2005\n",
    "                    GROUP BY film_id)\n",
    "    SELECT f.film_id, \n",
    "    n_rentals, \n",
    "    c.name AS category,\n",
    "    f.rental_rate,\n",
    "    CEIL(f.replacement_cost) AS replacement_cost,\n",
    "    f.rating\n",
    "FROM\n",
    "    cte_rental\n",
    "\t\tJOIN\n",
    "    sakila.film f USING (film_id)\n",
    "        JOIN\n",
    "    sakila.film_category fc USING (film_id)\n",
    "        JOIN\n",
    "    sakila.category c USING (category_id)\n",
    "    ORDER BY film_id;"
   ]
  },
  {
   "cell_type": "markdown",
   "id": "bbc78644",
   "metadata": {},
   "source": [
    "### Data Cleaning"
   ]
  },
  {
   "cell_type": "markdown",
   "id": "bc152ecd",
   "metadata": {},
   "source": [
    "2. Read the data into a Pandas dataframe."
   ]
  },
  {
   "cell_type": "code",
   "execution_count": 3,
   "id": "f74f977c",
   "metadata": {},
   "outputs": [
    {
     "data": {
      "text/html": [
       "<div>\n",
       "<style scoped>\n",
       "    .dataframe tbody tr th:only-of-type {\n",
       "        vertical-align: middle;\n",
       "    }\n",
       "\n",
       "    .dataframe tbody tr th {\n",
       "        vertical-align: top;\n",
       "    }\n",
       "\n",
       "    .dataframe thead th {\n",
       "        text-align: right;\n",
       "    }\n",
       "</style>\n",
       "<table border=\"1\" class=\"dataframe\">\n",
       "  <thead>\n",
       "    <tr style=\"text-align: right;\">\n",
       "      <th></th>\n",
       "      <th>film_id</th>\n",
       "      <th>n_rentals</th>\n",
       "      <th>category</th>\n",
       "      <th>rental_rate</th>\n",
       "      <th>replacement_cost</th>\n",
       "      <th>rating</th>\n",
       "    </tr>\n",
       "  </thead>\n",
       "  <tbody>\n",
       "    <tr>\n",
       "      <th>0</th>\n",
       "      <td>1</td>\n",
       "      <td>23</td>\n",
       "      <td>Documentary</td>\n",
       "      <td>0.99</td>\n",
       "      <td>21</td>\n",
       "      <td>PG</td>\n",
       "    </tr>\n",
       "    <tr>\n",
       "      <th>1</th>\n",
       "      <td>2</td>\n",
       "      <td>6</td>\n",
       "      <td>Horror</td>\n",
       "      <td>4.99</td>\n",
       "      <td>13</td>\n",
       "      <td>G</td>\n",
       "    </tr>\n",
       "    <tr>\n",
       "      <th>2</th>\n",
       "      <td>3</td>\n",
       "      <td>12</td>\n",
       "      <td>Documentary</td>\n",
       "      <td>2.99</td>\n",
       "      <td>19</td>\n",
       "      <td>NC-17</td>\n",
       "    </tr>\n",
       "    <tr>\n",
       "      <th>3</th>\n",
       "      <td>4</td>\n",
       "      <td>22</td>\n",
       "      <td>Horror</td>\n",
       "      <td>2.99</td>\n",
       "      <td>27</td>\n",
       "      <td>G</td>\n",
       "    </tr>\n",
       "    <tr>\n",
       "      <th>4</th>\n",
       "      <td>5</td>\n",
       "      <td>11</td>\n",
       "      <td>Family</td>\n",
       "      <td>2.99</td>\n",
       "      <td>23</td>\n",
       "      <td>G</td>\n",
       "    </tr>\n",
       "    <tr>\n",
       "      <th>...</th>\n",
       "      <td>...</td>\n",
       "      <td>...</td>\n",
       "      <td>...</td>\n",
       "      <td>...</td>\n",
       "      <td>...</td>\n",
       "      <td>...</td>\n",
       "    </tr>\n",
       "    <tr>\n",
       "      <th>953</th>\n",
       "      <td>996</td>\n",
       "      <td>7</td>\n",
       "      <td>Documentary</td>\n",
       "      <td>0.99</td>\n",
       "      <td>10</td>\n",
       "      <td>G</td>\n",
       "    </tr>\n",
       "    <tr>\n",
       "      <th>954</th>\n",
       "      <td>997</td>\n",
       "      <td>6</td>\n",
       "      <td>Music</td>\n",
       "      <td>0.99</td>\n",
       "      <td>15</td>\n",
       "      <td>NC-17</td>\n",
       "    </tr>\n",
       "    <tr>\n",
       "      <th>955</th>\n",
       "      <td>998</td>\n",
       "      <td>8</td>\n",
       "      <td>Horror</td>\n",
       "      <td>0.99</td>\n",
       "      <td>11</td>\n",
       "      <td>NC-17</td>\n",
       "    </tr>\n",
       "    <tr>\n",
       "      <th>956</th>\n",
       "      <td>999</td>\n",
       "      <td>17</td>\n",
       "      <td>Children</td>\n",
       "      <td>2.99</td>\n",
       "      <td>29</td>\n",
       "      <td>R</td>\n",
       "    </tr>\n",
       "    <tr>\n",
       "      <th>957</th>\n",
       "      <td>1000</td>\n",
       "      <td>31</td>\n",
       "      <td>Comedy</td>\n",
       "      <td>4.99</td>\n",
       "      <td>19</td>\n",
       "      <td>NC-17</td>\n",
       "    </tr>\n",
       "  </tbody>\n",
       "</table>\n",
       "<p>958 rows × 6 columns</p>\n",
       "</div>"
      ],
      "text/plain": [
       "     film_id  n_rentals     category  rental_rate  replacement_cost rating\n",
       "0          1         23  Documentary         0.99                21     PG\n",
       "1          2          6       Horror         4.99                13      G\n",
       "2          3         12  Documentary         2.99                19  NC-17\n",
       "3          4         22       Horror         2.99                27      G\n",
       "4          5         11       Family         2.99                23      G\n",
       "..       ...        ...          ...          ...               ...    ...\n",
       "953      996          7  Documentary         0.99                10      G\n",
       "954      997          6        Music         0.99                15  NC-17\n",
       "955      998          8       Horror         0.99                11  NC-17\n",
       "956      999         17     Children         2.99                29      R\n",
       "957     1000         31       Comedy         4.99                19  NC-17\n",
       "\n",
       "[958 rows x 6 columns]"
      ]
     },
     "execution_count": 3,
     "metadata": {},
     "output_type": "execute_result"
    }
   ],
   "source": [
    "query = 'SELECT * FROM sakila.film_rental'\n",
    "data = pd.read_sql_query(query, engine)\n",
    "data"
   ]
  },
  {
   "cell_type": "markdown",
   "id": "7e295b3e",
   "metadata": {},
   "source": [
    "3. Analyze extracted features and transform them. You may need to encode some categorical variables, or scale numerical variables."
   ]
  },
  {
   "cell_type": "code",
   "execution_count": 4,
   "id": "6e0c8327",
   "metadata": {},
   "outputs": [
    {
     "name": "stdout",
     "output_type": "stream",
     "text": [
      "<class 'pandas.core.frame.DataFrame'>\n",
      "RangeIndex: 958 entries, 0 to 957\n",
      "Data columns (total 6 columns):\n",
      " #   Column            Non-Null Count  Dtype  \n",
      "---  ------            --------------  -----  \n",
      " 0   film_id           958 non-null    int64  \n",
      " 1   n_rentals         958 non-null    int64  \n",
      " 2   category          958 non-null    object \n",
      " 3   rental_rate       958 non-null    float64\n",
      " 4   replacement_cost  958 non-null    int64  \n",
      " 5   rating            958 non-null    object \n",
      "dtypes: float64(1), int64(3), object(2)\n",
      "memory usage: 45.0+ KB\n"
     ]
    }
   ],
   "source": [
    "data.info()"
   ]
  },
  {
   "cell_type": "code",
   "execution_count": 5,
   "id": "1d663526",
   "metadata": {},
   "outputs": [
    {
     "data": {
      "text/plain": [
       "film_id             0\n",
       "n_rentals           0\n",
       "category            0\n",
       "rental_rate         0\n",
       "replacement_cost    0\n",
       "rating              0\n",
       "dtype: int64"
      ]
     },
     "execution_count": 5,
     "metadata": {},
     "output_type": "execute_result"
    }
   ],
   "source": [
    "#check NaN values\n",
    "data.isnull().sum()"
   ]
  },
  {
   "cell_type": "code",
   "execution_count": 6,
   "id": "355fba23",
   "metadata": {},
   "outputs": [
    {
     "data": {
      "text/plain": [
       "Sports         73\n",
       "Family         67\n",
       "Foreign        67\n",
       "Animation      64\n",
       "Documentary    63\n",
       "Action         61\n",
       "Drama          61\n",
       "New            60\n",
       "Sci-Fi         59\n",
       "Games          58\n",
       "Children       58\n",
       "Comedy         56\n",
       "Classics       54\n",
       "Horror         53\n",
       "Travel         53\n",
       "Music          51\n",
       "Name: category, dtype: int64"
      ]
     },
     "execution_count": 6,
     "metadata": {},
     "output_type": "execute_result"
    }
   ],
   "source": [
    "#check values \n",
    "data['category'].value_counts()"
   ]
  },
  {
   "cell_type": "code",
   "execution_count": 7,
   "id": "45bac877",
   "metadata": {},
   "outputs": [
    {
     "data": {
      "text/plain": [
       "PG-13    213\n",
       "NC-17    202\n",
       "R        189\n",
       "PG       183\n",
       "G        171\n",
       "Name: rating, dtype: int64"
      ]
     },
     "execution_count": 7,
     "metadata": {},
     "output_type": "execute_result"
    }
   ],
   "source": [
    "data['rating'].value_counts()"
   ]
  },
  {
   "cell_type": "code",
   "execution_count": 8,
   "id": "f29d185f",
   "metadata": {},
   "outputs": [],
   "source": [
    "#separate categorical and numerical columns\n",
    "X_cat = data.select_dtypes('object')\n",
    "X_num = data.select_dtypes('number')"
   ]
  },
  {
   "cell_type": "code",
   "execution_count": 9,
   "id": "d2d81cea",
   "metadata": {},
   "outputs": [],
   "source": [
    "#apply Hot Encoder on categorical columns\n",
    "encoder = OneHotEncoder(drop ='first').fit(X_cat)\n",
    "encoded = encoder.transform(X_cat).toarray()"
   ]
  },
  {
   "cell_type": "markdown",
   "id": "8b4265ab",
   "metadata": {},
   "source": [
    "4. Create a query to get the list of films and a boolean indicating if it was rented last month (August 2005). This would be our target variable."
   ]
  },
  {
   "cell_type": "markdown",
   "id": "951f36c2",
   "metadata": {},
   "source": [
    "__NOTE:__ As 90% of films were rented in August, I decided to approve the films that were rented more than 5 times."
   ]
  },
  {
   "cell_type": "raw",
   "id": "827cbd15",
   "metadata": {},
   "source": [
    "DROP TABLE IF EXISTS rental_prediction;\n",
    "CREATE TABLE rental_prediction AS\n",
    "WITH cte_months AS (SELECT f.film_id, COUNT(*) AS rented_august \n",
    "\t\t\t\t\tFROM sakila.rental r\n",
    "                    JOIN sakila.inventory i USING (inventory_id)\n",
    "                    JOIN sakila.film f USING (film_id)\n",
    "                    WHERE MONTH(CONVERT(r.rental_date , DATE)) = 08 \n",
    "                    GROUP BY f.film_id)\n",
    "SELECT f.film_id, f.n_rentals, f.category, f.rental_rate, f.replacement_cost, f.rating,\n",
    "    CASE\n",
    "        WHEN c.rented_august < 6 THEN 'No'\n",
    "        ELSE 'Yes'\n",
    "    END AS rented_last_month\n",
    "FROM\n",
    "    film_rental f\n",
    "        JOIN\n",
    "    cte_months c USING (film_id);"
   ]
  },
  {
   "cell_type": "code",
   "execution_count": 10,
   "id": "b651dcbf",
   "metadata": {},
   "outputs": [
    {
     "data": {
      "text/html": [
       "<div>\n",
       "<style scoped>\n",
       "    .dataframe tbody tr th:only-of-type {\n",
       "        vertical-align: middle;\n",
       "    }\n",
       "\n",
       "    .dataframe tbody tr th {\n",
       "        vertical-align: top;\n",
       "    }\n",
       "\n",
       "    .dataframe thead th {\n",
       "        text-align: right;\n",
       "    }\n",
       "</style>\n",
       "<table border=\"1\" class=\"dataframe\">\n",
       "  <thead>\n",
       "    <tr style=\"text-align: right;\">\n",
       "      <th></th>\n",
       "      <th>film_id</th>\n",
       "      <th>n_rentals</th>\n",
       "      <th>category</th>\n",
       "      <th>rental_rate</th>\n",
       "      <th>replacement_cost</th>\n",
       "      <th>rating</th>\n",
       "      <th>rented_last_month</th>\n",
       "    </tr>\n",
       "  </thead>\n",
       "  <tbody>\n",
       "    <tr>\n",
       "      <th>0</th>\n",
       "      <td>1</td>\n",
       "      <td>23</td>\n",
       "      <td>Documentary</td>\n",
       "      <td>0.99</td>\n",
       "      <td>21</td>\n",
       "      <td>PG</td>\n",
       "      <td>Yes</td>\n",
       "    </tr>\n",
       "    <tr>\n",
       "      <th>1</th>\n",
       "      <td>2</td>\n",
       "      <td>6</td>\n",
       "      <td>Horror</td>\n",
       "      <td>4.99</td>\n",
       "      <td>13</td>\n",
       "      <td>G</td>\n",
       "      <td>No</td>\n",
       "    </tr>\n",
       "    <tr>\n",
       "      <th>2</th>\n",
       "      <td>3</td>\n",
       "      <td>12</td>\n",
       "      <td>Documentary</td>\n",
       "      <td>2.99</td>\n",
       "      <td>19</td>\n",
       "      <td>NC-17</td>\n",
       "      <td>Yes</td>\n",
       "    </tr>\n",
       "    <tr>\n",
       "      <th>3</th>\n",
       "      <td>4</td>\n",
       "      <td>22</td>\n",
       "      <td>Horror</td>\n",
       "      <td>2.99</td>\n",
       "      <td>27</td>\n",
       "      <td>G</td>\n",
       "      <td>Yes</td>\n",
       "    </tr>\n",
       "    <tr>\n",
       "      <th>4</th>\n",
       "      <td>5</td>\n",
       "      <td>11</td>\n",
       "      <td>Family</td>\n",
       "      <td>2.99</td>\n",
       "      <td>23</td>\n",
       "      <td>G</td>\n",
       "      <td>No</td>\n",
       "    </tr>\n",
       "    <tr>\n",
       "      <th>...</th>\n",
       "      <td>...</td>\n",
       "      <td>...</td>\n",
       "      <td>...</td>\n",
       "      <td>...</td>\n",
       "      <td>...</td>\n",
       "      <td>...</td>\n",
       "      <td>...</td>\n",
       "    </tr>\n",
       "    <tr>\n",
       "      <th>953</th>\n",
       "      <td>996</td>\n",
       "      <td>7</td>\n",
       "      <td>Documentary</td>\n",
       "      <td>0.99</td>\n",
       "      <td>10</td>\n",
       "      <td>G</td>\n",
       "      <td>No</td>\n",
       "    </tr>\n",
       "    <tr>\n",
       "      <th>954</th>\n",
       "      <td>997</td>\n",
       "      <td>6</td>\n",
       "      <td>Music</td>\n",
       "      <td>0.99</td>\n",
       "      <td>15</td>\n",
       "      <td>NC-17</td>\n",
       "      <td>No</td>\n",
       "    </tr>\n",
       "    <tr>\n",
       "      <th>955</th>\n",
       "      <td>998</td>\n",
       "      <td>8</td>\n",
       "      <td>Horror</td>\n",
       "      <td>0.99</td>\n",
       "      <td>11</td>\n",
       "      <td>NC-17</td>\n",
       "      <td>No</td>\n",
       "    </tr>\n",
       "    <tr>\n",
       "      <th>956</th>\n",
       "      <td>999</td>\n",
       "      <td>17</td>\n",
       "      <td>Children</td>\n",
       "      <td>2.99</td>\n",
       "      <td>29</td>\n",
       "      <td>R</td>\n",
       "      <td>Yes</td>\n",
       "    </tr>\n",
       "    <tr>\n",
       "      <th>957</th>\n",
       "      <td>1000</td>\n",
       "      <td>31</td>\n",
       "      <td>Comedy</td>\n",
       "      <td>4.99</td>\n",
       "      <td>19</td>\n",
       "      <td>NC-17</td>\n",
       "      <td>Yes</td>\n",
       "    </tr>\n",
       "  </tbody>\n",
       "</table>\n",
       "<p>958 rows × 7 columns</p>\n",
       "</div>"
      ],
      "text/plain": [
       "     film_id  n_rentals     category  rental_rate  replacement_cost rating  \\\n",
       "0          1         23  Documentary         0.99                21     PG   \n",
       "1          2          6       Horror         4.99                13      G   \n",
       "2          3         12  Documentary         2.99                19  NC-17   \n",
       "3          4         22       Horror         2.99                27      G   \n",
       "4          5         11       Family         2.99                23      G   \n",
       "..       ...        ...          ...          ...               ...    ...   \n",
       "953      996          7  Documentary         0.99                10      G   \n",
       "954      997          6        Music         0.99                15  NC-17   \n",
       "955      998          8       Horror         0.99                11  NC-17   \n",
       "956      999         17     Children         2.99                29      R   \n",
       "957     1000         31       Comedy         4.99                19  NC-17   \n",
       "\n",
       "    rented_last_month  \n",
       "0                 Yes  \n",
       "1                  No  \n",
       "2                 Yes  \n",
       "3                 Yes  \n",
       "4                  No  \n",
       "..                ...  \n",
       "953                No  \n",
       "954                No  \n",
       "955                No  \n",
       "956               Yes  \n",
       "957               Yes  \n",
       "\n",
       "[958 rows x 7 columns]"
      ]
     },
     "execution_count": 10,
     "metadata": {},
     "output_type": "execute_result"
    }
   ],
   "source": [
    "query = \"SELECT * FROM sakila.rental_prediction\"\n",
    "data = pd.read_sql_query(query, engine)\n",
    "data"
   ]
  },
  {
   "cell_type": "code",
   "execution_count": 11,
   "id": "13ab3113",
   "metadata": {},
   "outputs": [
    {
     "data": {
      "text/plain": [
       "Yes    516\n",
       "No     442\n",
       "Name: rented_last_month, dtype: int64"
      ]
     },
     "execution_count": 11,
     "metadata": {},
     "output_type": "execute_result"
    }
   ],
   "source": [
    "data['rented_last_month'].value_counts()  #now, the values are balanced"
   ]
  },
  {
   "cell_type": "markdown",
   "id": "0660a2fd",
   "metadata": {},
   "source": [
    "### Data Exploration "
   ]
  },
  {
   "cell_type": "code",
   "execution_count": 12,
   "id": "c5226c6c",
   "metadata": {},
   "outputs": [],
   "source": [
    "#define the target and independent variables\n",
    "y = data['rented_last_month']\n",
    "X = np.concatenate((encoded, X_num), axis=1)"
   ]
  },
  {
   "cell_type": "markdown",
   "id": "dd0cec5a",
   "metadata": {},
   "source": [
    "5. Create a logistic regression model to predict this variable from the cleaned data."
   ]
  },
  {
   "cell_type": "code",
   "execution_count": 27,
   "id": "8f59a8fe",
   "metadata": {},
   "outputs": [],
   "source": [
    "#apply train-test split\n",
    "X_train, X_test, y_train, y_test = train_test_split(X, y, test_size=0.3, random_state = 100)"
   ]
  },
  {
   "cell_type": "code",
   "execution_count": 28,
   "id": "6a4bb0df",
   "metadata": {},
   "outputs": [
    {
     "data": {
      "text/plain": [
       "0.8784722222222222"
      ]
     },
     "execution_count": 28,
     "metadata": {},
     "output_type": "execute_result"
    }
   ],
   "source": [
    "#and then Logistic regression\n",
    "classification = LogisticRegression(random_state = 0, solver = 'lbfgs',\n",
    "                  multi_class = 'ovr').fit(X_train, y_train)\n",
    "predictions = classification.predict(X_test)\n",
    "classification.score(X_test, y_test)"
   ]
  },
  {
   "cell_type": "markdown",
   "id": "ceffea77",
   "metadata": {},
   "source": [
    "6. Evaluate the results."
   ]
  },
  {
   "cell_type": "code",
   "execution_count": 29,
   "id": "86463ac1",
   "metadata": {},
   "outputs": [
    {
     "data": {
      "text/plain": [
       "Yes    166\n",
       "No     122\n",
       "dtype: int64"
      ]
     },
     "execution_count": 29,
     "metadata": {},
     "output_type": "execute_result"
    }
   ],
   "source": [
    "#check values\n",
    "pd.Series(predictions).value_counts()"
   ]
  },
  {
   "cell_type": "code",
   "execution_count": 30,
   "id": "fe3f097b",
   "metadata": {},
   "outputs": [
    {
     "name": "stdout",
     "output_type": "stream",
     "text": [
      "The accuracy of the model on test set is: 0.88 \n",
      "[[107  20]\n",
      " [ 15 146]]\n",
      "The Kappa of your model is: 0.75\n"
     ]
    },
    {
     "data": {
      "image/png": "[encoded data removed]",
      "text/plain": [
       "<Figure size 432x288 with 2 Axes>"
      ]
     },
     "metadata": {
      "needs_background": "light"
     },
     "output_type": "display_data"
    }
   ],
   "source": [
    "print(\"The accuracy of the model on test set is: %4.2f \" % accuracy_score(y_test, predictions))\n",
    "print(confusion_matrix(y_test, predictions))\n",
    "plot_confusion_matrix(classification, X_test, y_test)\n",
    "print(\"The Kappa of your model is: %4.2f\" % (cohen_kappa_score(y_test, predictions)))\n",
    "plt.show() "
   ]
  },
  {
   "cell_type": "code",
   "execution_count": null,
   "id": "701e25d0",
   "metadata": {},
   "outputs": [],
   "source": []
  }
 ],
 "metadata": {
  "kernelspec": {
   "display_name": "Python 3 (ipykernel)",
   "language": "python",
   "name": "python3"
  },
  "language_info": {
   "codemirror_mode": {
    "name": "ipython",
    "version": 3
   },
   "file_extension": ".py",
   "mimetype": "text/x-python",
   "name": "python",
   "nbconvert_exporter": "python",
   "pygments_lexer": "ipython3",
   "version": "3.9.7"
  }
 },
 "nbformat": 4,
 "nbformat_minor": 5
}
